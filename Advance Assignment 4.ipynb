{
 "cells": [
  {
   "cell_type": "code",
   "execution_count": null,
   "id": "893494db",
   "metadata": {},
   "outputs": [],
   "source": [
    "Q1. Which two operator overloading methods can you use in your classes to support iteration?\n",
    "Q2. In what contexts do the two operator overloading methods manage printing?\n",
    "Q3. In a class, how do you intercept slice operations?\n",
    "Q4. In a class, how do you capture in-place addition?\n",
    "Q5. When is it appropriate to use operator overloading?"
   ]
  },
  {
   "cell_type": "code",
   "execution_count": null,
   "id": "4e891063",
   "metadata": {},
   "outputs": [],
   "source": [
    "Q1. Which two operator overloading methods can you use in your classes to support iteration?\n",
    "\n",
    "ans:\n",
    "    The __iter__ returns the iterator object and is implicitly called at the start of loops. \n",
    "    The __next__ method returns the next value and is implicitly called at each loop increment."
   ]
  },
  {
   "cell_type": "code",
   "execution_count": null,
   "id": "7cdcffe7",
   "metadata": {},
   "outputs": [],
   "source": [
    "Q2. In what contexts do the two operator overloading methods manage printing?\n",
    "\n",
    "ans:__str__ and __repr__ are two operator overloading methods that manage printing.\n",
    "    \n",
    "    The main purpose of __str__ is for readability. it prints the informal string representation of an object, one that is useful for printing the object. it may not be possible to convert result string to original object.\n",
    "    __repr__ is used to print official string representation of an object, so it includes all information and development."
   ]
  },
  {
   "cell_type": "code",
   "execution_count": null,
   "id": "3a113945",
   "metadata": {},
   "outputs": [],
   "source": [
    "Q3. In a class, how do you intercept slice operations?\n",
    "\n",
    "ans:\n",
    "     In a class use of slice() in __getitem__ method is used for intercept slice operation. This slice method is provided with start integer number, stop integer number and step integer number."
   ]
  },
  {
   "cell_type": "code",
   "execution_count": null,
   "id": "3f827cd6",
   "metadata": {},
   "outputs": [],
   "source": [
    "Q4. In a class, how do you capture in-place addition?\n",
    "\n",
    "ans:\n",
    "    a+b is normal addition. Whereas a+=b is inplace addition operation. In this in-place addition a itself will store the value of addition. In a class __iadd__ method is used for this in-place operation"
   ]
  },
  {
   "cell_type": "code",
   "execution_count": null,
   "id": "5c4d80ec",
   "metadata": {},
   "outputs": [],
   "source": [
    "Q5. When is it appropriate to use operator overloading?\n",
    "\n",
    "ans:\n",
    "    Operator overloading is used when we want to use an operator other than its normal operation to have different meaning according to the context required in user defined function."
   ]
  }
 ],
 "metadata": {
  "kernelspec": {
   "display_name": "Python 3 (ipykernel)",
   "language": "python",
   "name": "python3"
  },
  "language_info": {
   "codemirror_mode": {
    "name": "ipython",
    "version": 3
   },
   "file_extension": ".py",
   "mimetype": "text/x-python",
   "name": "python",
   "nbconvert_exporter": "python",
   "pygments_lexer": "ipython3",
   "version": "3.9.13"
  }
 },
 "nbformat": 4,
 "nbformat_minor": 5
}
