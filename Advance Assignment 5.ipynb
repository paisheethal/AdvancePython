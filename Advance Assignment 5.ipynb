{
 "cells": [
  {
   "cell_type": "code",
   "execution_count": null,
   "id": "8005ef64",
   "metadata": {},
   "outputs": [],
   "source": [
    "Q1. What is the meaning of multiple inheritance?\n",
    "Q2. What is the concept of delegation?\n",
    "Q3. What is the concept of composition?\n",
    "Q4. What are bound methods and how do we use them?\n",
    "Q5. What is the purpose of pseudoprivate attributes?"
   ]
  },
  {
   "cell_type": "code",
   "execution_count": null,
   "id": "f9c3c98d",
   "metadata": {},
   "outputs": [],
   "source": [
    "Q1. What is the meaning of multiple inheritance?\n",
    "\n",
    "ans:Inheriting the properting of multiple parent class in one child class, this scenario is called Multiple Inheritence\n",
    "    "
   ]
  },
  {
   "cell_type": "code",
   "execution_count": null,
   "id": "a47db619",
   "metadata": {},
   "outputs": [],
   "source": [
    "Q2. What is the concept of delegation?\n",
    "\n",
    "ans:\n",
    "Delegation provides a proxy object for any class thay you want on top of the main class. \n",
    "its like a wrapper to your class so that you can access limited resources of the main class.\n",
    "it Wraps the object of main class into a smaller object with limited access\n",
    "Simply Delegation means that you can include a instance of another class as an instance variable, and forward messages to the instance."
   ]
  },
  {
   "cell_type": "code",
   "execution_count": null,
   "id": "00f35fbb",
   "metadata": {},
   "outputs": [],
   "source": [
    "Q3. What is the concept of composition?\n",
    "\n",
    "ans:\n",
    "In the concept of Composition, a class refers to one or more other classes by using instances of those classes as a instance variable. \n",
    "Irrespective of inheritence in this approach all the parent class members are not inherited into child class, but only required methods from a class are used by using class instances."
   ]
  },
  {
   "cell_type": "code",
   "execution_count": null,
   "id": "abfff4eb",
   "metadata": {},
   "outputs": [],
   "source": [
    "Q4. What are bound methods and how do we use them?\n",
    "\n",
    "ans:\n",
    "    If a function is an attribute of class and it is accessed via the instances, they are called bound methods. \n",
    "    A bound method is one that has self as its first argument. \n",
    "    Since these are dependent on the instance of classes, these are also known as instance methods.\n",
    "    Bound methods are called using the instance of the class."
   ]
  },
  {
   "cell_type": "code",
   "execution_count": null,
   "id": "8eb0bad5",
   "metadata": {},
   "outputs": [],
   "source": [
    "Q5. What is the purpose of pseudoprivate attributes?\n",
    "\n",
    "ans:\n",
    "     Pseudoprivate attributes are useful when creating subclasses, as they help prevent attribute name clashes between the base class and the subclass."
   ]
  }
 ],
 "metadata": {
  "kernelspec": {
   "display_name": "Python 3 (ipykernel)",
   "language": "python",
   "name": "python3"
  },
  "language_info": {
   "codemirror_mode": {
    "name": "ipython",
    "version": 3
   },
   "file_extension": ".py",
   "mimetype": "text/x-python",
   "name": "python",
   "nbconvert_exporter": "python",
   "pygments_lexer": "ipython3",
   "version": "3.9.13"
  }
 },
 "nbformat": 4,
 "nbformat_minor": 5
}
