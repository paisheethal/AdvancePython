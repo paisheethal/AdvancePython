{
 "cells": [
  {
   "cell_type": "code",
   "execution_count": null,
   "id": "f1d4cc75",
   "metadata": {},
   "outputs": [],
   "source": [
    "Q1. What is the relationship between classes and modules?\n",
    "Q2. How do you make instances and classes?\n",
    "Q3. Where and how should be class attributes created?\n",
    "Q4. Where and how are instance attributes created?\n",
    "Q5. What does the term \"self\" in a Python class mean?\n",
    "Q6. How does a Python class handle operator overloading?\n",
    "Q7. When do you consider allowing operator overloading of your classes?\n",
    "Q8. What is the most popular form of operator overloading?\n",
    "Q9. What are the two most important concepts to grasp in order to comprehend Python OOP code?\n"
   ]
  },
  {
   "cell_type": "code",
   "execution_count": null,
   "id": "026ffe7b",
   "metadata": {},
   "outputs": [],
   "source": [
    "Q1. What is the relationship between classes and modules?\n",
    "\n",
    "ans:\n",
    "A class is used to define a blueprint for a given object, whereas a module is used to reuse a given piece of code inside another program."
   ]
  },
  {
   "cell_type": "code",
   "execution_count": null,
   "id": "8c558158",
   "metadata": {},
   "outputs": [],
   "source": [
    "Q2. How do you make instances and classes?\n",
    "\n",
    "ans:\n",
    "To create instances of a class, you call the class using class name and pass in whatever arguments its __init__ method accepts.\n",
    "To create a class, give the keyword Class and give a name to the class.(class classname)\n"
   ]
  },
  {
   "cell_type": "code",
   "execution_count": null,
   "id": "874d049f",
   "metadata": {},
   "outputs": [],
   "source": [
    "Q3. Where and how should be class attributes created?\n",
    "\n",
    "ans:\n",
    "A class attribute is a Python variable that belongs to a class rather than a particular object. \n",
    "It’s shared between all the objects of this class and is defined outside the constructor function, __init__(self,...), of the class.\n",
    "Hence these attributes are usually created/defined in the top of class definiation outside all methods."
   ]
  },
  {
   "cell_type": "code",
   "execution_count": null,
   "id": "3e4e0b4d",
   "metadata": {},
   "outputs": [],
   "source": [
    "Q4. Where and how are instance attributes created?\n",
    "\n",
    "ans:\n",
    "An instance attribute is a Python variable belonging to one, and only one, object. \n",
    "This variable is only accessible in the scope of this object, and it’s defined inside the constructor function, __init__(self,..) of the class."
   ]
  },
  {
   "cell_type": "code",
   "execution_count": null,
   "id": "40888c10",
   "metadata": {},
   "outputs": [],
   "source": [
    "Q5. What does the term \"self\" in a Python class mean?\n",
    "\n",
    "ans:\n",
    "The self is used to represent the instance of the class. \n",
    "With this keyword, you can access the attributes and methods of the class in python."
   ]
  },
  {
   "cell_type": "code",
   "execution_count": null,
   "id": "23997f8b",
   "metadata": {},
   "outputs": [],
   "source": [
    "Q6. How does a Python class handle operator overloading?\n",
    "\n",
    "ans:\n",
    "Python Classes handle operator overloading by using special methods called special functions. these special methods usually begin and end with __ (double underscore)\n",
    "__add__()\n",
    "__sub__()\n",
    "__mul__()\n",
    "__div__()\n",
    "    "
   ]
  },
  {
   "cell_type": "code",
   "execution_count": null,
   "id": "7525e1a9",
   "metadata": {},
   "outputs": [],
   "source": [
    "Q7. When do you consider allowing operator overloading of your classes?\n",
    "\n",
    "ans:\n",
    "    When we want to have different meaning for the same operator accroding to the context we use operator overloading."
   ]
  },
  {
   "cell_type": "code",
   "execution_count": null,
   "id": "16c24b5f",
   "metadata": {},
   "outputs": [],
   "source": [
    "Q8. What is the most popular form of operator overloading?\n",
    "\n",
    "ans:\n",
    "    The most popular form of operator overloading in python is by special methods called special function. Which usually beign and end with double underscore __<method name>__."
   ]
  },
  {
   "cell_type": "code",
   "execution_count": null,
   "id": "fb8e35df",
   "metadata": {},
   "outputs": [],
   "source": [
    "Q9. What are the two most important concepts to grasp in order to comprehend Python OOP code?\n",
    "\n",
    "ans:\n",
    "Classes and objects are the two concepts to comprehend python OOP code as more formally objects are entities that represent instances of general abstract concept called class\n",
    "\n",
    "Along with classes and objects the important concepts to grasp are:\n",
    "\n",
    "Inheritence\n",
    "Abstraction\n",
    "Polymorphism\n",
    "Encapsulation"
   ]
  }
 ],
 "metadata": {
  "kernelspec": {
   "display_name": "Python 3 (ipykernel)",
   "language": "python",
   "name": "python3"
  },
  "language_info": {
   "codemirror_mode": {
    "name": "ipython",
    "version": 3
   },
   "file_extension": ".py",
   "mimetype": "text/x-python",
   "name": "python",
   "nbconvert_exporter": "python",
   "pygments_lexer": "ipython3",
   "version": "3.9.13"
  }
 },
 "nbformat": 4,
 "nbformat_minor": 5
}
