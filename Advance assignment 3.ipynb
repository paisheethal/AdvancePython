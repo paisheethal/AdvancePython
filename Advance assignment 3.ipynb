{
 "cells": [
  {
   "cell_type": "code",
   "execution_count": null,
   "id": "7723ba57",
   "metadata": {},
   "outputs": [],
   "source": [
    "1. What is the concept of an abstract superclass?\n",
    "2. What happens when a class statement's top level contains a basic assignment statement?\n",
    "3. Why does a class need to manually call a superclass's __init__ method?\n",
    "4. How can you augment, instead of completely replacing, an inherited method?\n",
    "5. How is the local scope of a class different from that of a function?"
   ]
  },
  {
   "cell_type": "code",
   "execution_count": null,
   "id": "7c5413fb",
   "metadata": {},
   "outputs": [],
   "source": [
    "1. What is the concept of an abstract superclass?\n",
    "\n",
    "ans:\n",
    "An abstract class/superclass can be considered as a blueprint for other classes. \n",
    "It allows you to create a set of methods that must be created within any child classes built from the abstract class.\n"
   ]
  },
  {
   "cell_type": "code",
   "execution_count": null,
   "id": "cf2c5f4a",
   "metadata": {},
   "outputs": [],
   "source": [
    "2. What happens when a class statement's top level contains a basic assignment statement?\n",
    "\n",
    "ans:\n",
    "When a Class statement's top level contains a basic assignment statement, its usually treated as a class attribute or class level variable.\n",
    "When an instance of a class is created a single copy of class attributes is maintained and shared to all instances of class. "
   ]
  },
  {
   "cell_type": "code",
   "execution_count": null,
   "id": "a58e1b1a",
   "metadata": {},
   "outputs": [],
   "source": [
    "3. Why does a class need to manually call a superclass's __init__ method?\n",
    "\n",
    "ans:\n",
    "If a child class has __init__ method, then it will not inherit the __init__ method of the parent class. \n",
    "In other words the __init__ method of the child class overrides the __init__ method of the parent class. \n",
    "so we have to manually call a parent superclass's __init__ using super() method"
   ]
  },
  {
   "cell_type": "code",
   "execution_count": null,
   "id": "4b413f5f",
   "metadata": {},
   "outputs": [],
   "source": [
    "4. How can you augment, instead of completely replacing, an inherited method?\n",
    "\n",
    "ans:\n",
    "super() method can be used to augment, instead of completely replacing, an inherited method."
   ]
  },
  {
   "cell_type": "code",
   "execution_count": null,
   "id": "198194e5",
   "metadata": {},
   "outputs": [],
   "source": [
    "5. How is the local scope of a class different from that of a function?\n",
    "\n",
    "ans:\n",
    "A Variable which is defined inside a function is local to that function. \n",
    "It is accesible from the point at which it is defined until the end of the function, and exists for as long as the function is existing.\n",
    "\n",
    "Similary a variable inside of a class also has a local variable scope. \n",
    "Variables which are defined in the class body (but outside all methods) are called as class level variables or class attributes. \n",
    "they can be referenced by there bare names within the same scope, but they can also be accessed from outside this scope if we use the attribute access operator (.). on a class or an instance of the class."
   ]
  }
 ],
 "metadata": {
  "kernelspec": {
   "display_name": "Python 3 (ipykernel)",
   "language": "python",
   "name": "python3"
  },
  "language_info": {
   "codemirror_mode": {
    "name": "ipython",
    "version": 3
   },
   "file_extension": ".py",
   "mimetype": "text/x-python",
   "name": "python",
   "nbconvert_exporter": "python",
   "pygments_lexer": "ipython3",
   "version": "3.9.13"
  }
 },
 "nbformat": 4,
 "nbformat_minor": 5
}
