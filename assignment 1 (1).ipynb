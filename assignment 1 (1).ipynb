{
 "cells": [
  {
   "cell_type": "code",
   "execution_count": null,
   "id": "a8976921",
   "metadata": {},
   "outputs": [],
   "source": [
    "Q1. What is the purpose of Python's OOP?\n",
    "Q2. Where does an inheritance search look for an attribute?\n",
    "Q3. How do you distinguish between a class object and an instance object?\n",
    "Q4. What makes the first argument in a class’s method function special?\n",
    "Q5. What is the purpose of the __init__ method?\n",
    "Q6. What is the process for creating a class instance?\n",
    "Q7. What is the process for creating a class?\n",
    "Q8. How would you define the superclasses of a class?\n"
   ]
  },
  {
   "cell_type": "code",
   "execution_count": null,
   "id": "2f37e0de",
   "metadata": {},
   "outputs": [],
   "source": [
    "Q1. What is the purpose of Python's OOP?\n",
    "\n",
    "ans:\n",
    "    It allows us to develop applications using an Object-Oriented approach. \n",
    "    In Python, we can easily create and use classes and objects.\n",
    "    An object-oriented paradigm is to design the program using classes and objects. \n",
    "    The object is related to real-word entities such as book, house, pencil, etc. \n",
    "    The oops concept focuses on writing the reusable code. \n",
    "    It is a widespread technique to solve the problem by creating objects."
   ]
  },
  {
   "cell_type": "code",
   "execution_count": null,
   "id": "92be3b7d",
   "metadata": {},
   "outputs": [],
   "source": [
    "Q2. Where does an inheritance search look for an attribute?\n",
    "\n",
    "ans:\n",
    "    Python searches for an attribute in an upward tree of attributes, it first searches for the attribute in its instance and then looks in the class it is generated from, to all super classes listed in its class header."
   ]
  },
  {
   "cell_type": "code",
   "execution_count": null,
   "id": "8fb0fd7c",
   "metadata": {},
   "outputs": [],
   "source": [
    "Q3. How do you distinguish between a class object and an instance object?\n",
    "\n",
    "ans:\n",
    "1.Class objects represent the class itself, while instance objects represent individual instances of the class.\n",
    "2.Class objects can have class-level attributes and methods that are shared among all instances of the class, \n",
    "while instance objects have their own set of attributes and methods that are independent of other.\n",
    "    "
   ]
  },
  {
   "cell_type": "code",
   "execution_count": null,
   "id": "5300a561",
   "metadata": {},
   "outputs": [],
   "source": [
    "Q4. What makes the first argument in a class’s method function special?\n",
    "\n",
    "ans:self is the first argument for instance methods. which refers to the object itself"
   ]
  },
  {
   "cell_type": "code",
   "execution_count": null,
   "id": "adbdf490",
   "metadata": {},
   "outputs": [],
   "source": [
    "Q5. What is the purpose of the __init__ method?\n",
    "\n",
    "ans:__init__ method is the constructor, it is called when object is created and allows to initialize the attributes of the class."
   ]
  },
  {
   "cell_type": "code",
   "execution_count": null,
   "id": "04402cbb",
   "metadata": {},
   "outputs": [],
   "source": [
    "Q6. What is the process for creating a class instance?\n",
    "\n",
    "ans:\n",
    "To create a class instance, create a object of the class that we need the instance, by calling class by its name and pass the arguments to the class, which its init method accepts.\n",
    "\n",
    "obj = class_name(param) Here obj is an instance of class class_name."
   ]
  },
  {
   "cell_type": "code",
   "execution_count": null,
   "id": "bdfc4584",
   "metadata": {},
   "outputs": [],
   "source": [
    "Q7. What is the process for creating a class?\n",
    "\n",
    "ans:class keyword is used to created a class in python.\n",
    "    \n",
    "    class <class_name>\n"
   ]
  },
  {
   "cell_type": "code",
   "execution_count": null,
   "id": "da2e6eaf",
   "metadata": {},
   "outputs": [],
   "source": [
    "Q8. How would you define the superclasses of a class?\n",
    "\n",
    "ans:\n",
    "Superclasses are given as a argument to the child class\n",
    "\n",
    "class Child(SuperClass)"
   ]
  }
 ],
 "metadata": {
  "kernelspec": {
   "display_name": "Python 3 (ipykernel)",
   "language": "python",
   "name": "python3"
  },
  "language_info": {
   "codemirror_mode": {
    "name": "ipython",
    "version": 3
   },
   "file_extension": ".py",
   "mimetype": "text/x-python",
   "name": "python",
   "nbconvert_exporter": "python",
   "pygments_lexer": "ipython3",
   "version": "3.9.13"
  }
 },
 "nbformat": 4,
 "nbformat_minor": 5
}
